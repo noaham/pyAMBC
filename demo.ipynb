{
 "cells": [
  {
   "cell_type": "markdown",
   "source": [
    "# pyAMBC demo\n",
    "\n",
    "This notebook takes you through some of the main features of the pyAMBC package. First we import all the packages."
   ],
   "metadata": {
    "collapsed": false,
    "pycharm": {
     "name": "#%% md\n"
    }
   }
  },
  {
   "cell_type": "code",
   "execution_count": 1,
   "outputs": [],
   "source": [
    "from affine import Perm\n",
    "\n",
    "# we also change the behaviour in this notebook to output every line\n",
    "# rather than just the last\n",
    "from IPython.core.interactiveshell import InteractiveShell\n",
    "InteractiveShell.ast_node_interactivity = \"all\""
   ],
   "metadata": {
    "collapsed": false,
    "pycharm": {
     "name": "#%%\n"
    }
   }
  },
  {
   "cell_type": "markdown",
   "source": [
    "## Permutations\n",
    "\n",
    "The main object in the package is the `Perm` class which represents an affine permutation. You can construct an affine permutation using window notation."
   ],
   "metadata": {
    "collapsed": false,
    "pycharm": {
     "name": "#%% md\n"
    }
   }
  },
  {
   "cell_type": "code",
   "execution_count": 2,
   "outputs": [],
   "source": [
    "a = Perm([0,2,3,5])"
   ],
   "metadata": {
    "collapsed": false,
    "pycharm": {
     "name": "#%%\n"
    }
   }
  },
  {
   "cell_type": "markdown",
   "source": [
    "We can test equality, use the permutation as a function, and multiply permutations as expected."
   ],
   "metadata": {
    "collapsed": false,
    "pycharm": {
     "name": "#%% md\n"
    }
   }
  },
  {
   "cell_type": "code",
   "execution_count": 3,
   "outputs": [
    {
     "data": {
      "text/plain": "False"
     },
     "execution_count": 3,
     "metadata": {},
     "output_type": "execute_result"
    },
    {
     "data": {
      "text/plain": "3"
     },
     "execution_count": 3,
     "metadata": {},
     "output_type": "execute_result"
    }
   ],
   "source": [
    "b = Perm([1,3,2,4])\n",
    "a == b\n",
    "c = a*b\n",
    "c(2)"
   ],
   "metadata": {
    "collapsed": false,
    "pycharm": {
     "name": "#%%\n"
    }
   }
  },
  {
   "cell_type": "markdown",
   "source": [
    "The function `len` will calculate the length (i.e. the number of inversions)"
   ],
   "metadata": {
    "collapsed": false,
    "pycharm": {
     "name": "#%% md\n"
    }
   }
  },
  {
   "cell_type": "code",
   "execution_count": 4,
   "outputs": [
    {
     "data": {
      "text/plain": "2"
     },
     "execution_count": 4,
     "metadata": {},
     "output_type": "execute_result"
    }
   ],
   "source": [
    "len(c)"
   ],
   "metadata": {
    "collapsed": false,
    "pycharm": {
     "name": "#%%\n"
    }
   }
  },
  {
   "cell_type": "markdown",
   "source": [
    "And we have methods to find the inverse, the left and right descent sets as well at the factorisation of a permutation $w$ into $ax$ where $x$ is a finite permutation, and $a$ is the minimal length coset representative. You will also notice that permutations get printed in window notation."
   ],
   "metadata": {
    "collapsed": false,
    "pycharm": {
     "name": "#%% md\n"
    }
   }
  },
  {
   "cell_type": "code",
   "execution_count": 5,
   "outputs": [
    {
     "data": {
      "text/plain": "[0, 3, 2, 5]"
     },
     "execution_count": 5,
     "metadata": {},
     "output_type": "execute_result"
    },
    {
     "data": {
      "text/plain": "[0, 2]"
     },
     "execution_count": 5,
     "metadata": {},
     "output_type": "execute_result"
    },
    {
     "data": {
      "text/plain": "[0, 2]"
     },
     "execution_count": 5,
     "metadata": {},
     "output_type": "execute_result"
    },
    {
     "data": {
      "text/plain": "[0, 2, 3, 5]"
     },
     "execution_count": 5,
     "metadata": {},
     "output_type": "execute_result"
    },
    {
     "data": {
      "text/plain": "[1, 3, 2, 4]"
     },
     "execution_count": 5,
     "metadata": {},
     "output_type": "execute_result"
    },
    {
     "data": {
      "text/plain": "True"
     },
     "execution_count": 5,
     "metadata": {},
     "output_type": "execute_result"
    }
   ],
   "source": [
    "c.inv() # the inverse permutation\n",
    "c.rdesc() # the descent sets\n",
    "c.ldesc()\n",
    "c.a()\n",
    "c.x()\n",
    "c == c.a()*c.x()"
   ],
   "metadata": {
    "collapsed": false,
    "pycharm": {
     "name": "#%%\n"
    }
   }
  },
  {
   "cell_type": "markdown",
   "source": [
    "We have methods to compute the affine matrix ball construction and (if the permutation is finite) the RSK tableaux."
   ],
   "metadata": {
    "collapsed": false,
    "pycharm": {
     "name": "#%% md\n"
    }
   }
  },
  {
   "cell_type": "code",
   "execution_count": 6,
   "outputs": [
    {
     "data": {
      "text/plain": "(2 4 \n 1 3,\n 2 4 \n 1 3,\n [0, 0])"
     },
     "execution_count": 6,
     "metadata": {},
     "output_type": "execute_result"
    },
    {
     "data": {
      "text/plain": "(1 2 4 \n 3,\n 1 2 4 \n 3)"
     },
     "execution_count": 6,
     "metadata": {},
     "output_type": "execute_result"
    }
   ],
   "source": [
    "c.AMBC()\n",
    "b.RSK()"
   ],
   "metadata": {
    "collapsed": false,
    "pycharm": {
     "name": "#%%\n"
    }
   }
  },
  {
   "cell_type": "markdown",
   "source": [
    "The objects that are generated by these functions are of type `Tabloid` and `Tableaux` which are discussed below. We also have methods to calculate the cactus group action of the element $\\sigma_{1n} \\in C_{\\hat{S}_n}$, (i.e. the cactus group element corresponding to the parabolic $S_n \\subset \\hat{S}_n$) and the affine Schützenberger involution.\n",
    "\n",
    "The cactus group action is calculated by factorising $w = ax$ and then appling evacuation to the $Q$-symbol of $x$ and then multiplying by $a$ again. The affine Schützenberger involution is calculated by \"rectifying\" the $\\hat{Q}$-symbol of $w \\in \\hat{S}_n$ (i.e. sliding to a skew tableau and then rectifying), applying the usual evacuation and then sliding back out (using the dual equivalence class we remembered)."
   ],
   "metadata": {
    "collapsed": false,
    "pycharm": {
     "name": "#%% md\n"
    }
   }
  },
  {
   "cell_type": "code",
   "execution_count": 7,
   "outputs": [
    {
     "data": {
      "text/plain": "[0, 3, 2, 5]"
     },
     "execution_count": 7,
     "metadata": {},
     "output_type": "execute_result"
    },
    {
     "data": {
      "text/plain": "[0, 3, 2, 5]"
     },
     "execution_count": 7,
     "metadata": {},
     "output_type": "execute_result"
    }
   ],
   "source": [
    "c.cactus()\n",
    "c.schutz()"
   ],
   "metadata": {
    "collapsed": false,
    "pycharm": {
     "name": "#%%\n"
    }
   }
  },
  {
   "cell_type": "markdown",
   "source": [
    "We see that these are the same! In fact, that is the conjecture. There is a function `rand_perm(N,n)` that will construct $N$ random permutations from the group $\\hat{S}_n$. We can use this to gather more evidence for the conjecture:"
   ],
   "metadata": {
    "collapsed": false,
    "pycharm": {
     "name": "#%% md\n"
    }
   }
  },
  {
   "cell_type": "code",
   "execution_count": 8,
   "outputs": [
    {
     "data": {
      "text/plain": "True"
     },
     "execution_count": 8,
     "metadata": {},
     "output_type": "execute_result"
    }
   ],
   "source": [
    "perms = rand_perms(100,6) # construct 100 random permutations\n",
    "conjecture = lambda perm : perm.cactus() == perm.schutz() # returns true if the conjecture holds for the perm\n",
    "all([conjecture(perm) for perm in perms]) # checks the conjecture for all the random permutations"
   ],
   "metadata": {
    "collapsed": false,
    "pycharm": {
     "name": "#%%\n"
    }
   }
  },
  {
   "cell_type": "markdown",
   "source": [
    "We can also check the more specific conjecture that $\\mathrm{rect}(\\hat{Q}_w) = Q_x$. See below for details on `Tabloid` objects"
   ],
   "metadata": {
    "collapsed": false,
    "pycharm": {
     "name": "#%% md\n"
    }
   }
  },
  {
   "cell_type": "code",
   "execution_count": 14,
   "outputs": [
    {
     "data": {
      "text/plain": "True"
     },
     "execution_count": 14,
     "metadata": {},
     "output_type": "execute_result"
    }
   ],
   "source": [
    "perms = rand_perms(100,6) # construct 100 random permutations\n",
    "conjecture = lambda perm : perm.x().RSK()[1] == perm.AMBC()[1].rect() # returns true if the conjecture holds for the perm\n",
    "all([conjecture(perm) for perm in perms]) # checks the conjecture for all the random permutations"
   ],
   "metadata": {
    "collapsed": false,
    "pycharm": {
     "name": "#%%\n"
    }
   }
  },
  {
   "cell_type": "markdown",
   "source": [],
   "metadata": {
    "collapsed": false,
    "pycharm": {
     "name": "#%% md\n"
    }
   }
  }
 ],
 "metadata": {
  "kernelspec": {
   "display_name": "Python 3",
   "language": "python",
   "name": "python3"
  },
  "language_info": {
   "codemirror_mode": {
    "name": "ipython",
    "version": 2
   },
   "file_extension": ".py",
   "mimetype": "text/x-python",
   "name": "python",
   "nbconvert_exporter": "python",
   "pygments_lexer": "ipython2",
   "version": "2.7.6"
  }
 },
 "nbformat": 4,
 "nbformat_minor": 0
}